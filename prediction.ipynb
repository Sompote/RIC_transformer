{
  "nbformat": 4,
  "nbformat_minor": 0,
  "metadata": {
    "colab": {
      "provenance": [],
      "mount_file_id": "11kMbMWzXgxCjLsIjjcboWnDhx6mgE6Cc",
      "authorship_tag": "ABX9TyPYjlZIjnEwARUns8TbqrZX",
      "include_colab_link": true
    },
    "kernelspec": {
      "name": "python3",
      "display_name": "Python 3"
    },
    "language_info": {
      "name": "python"
    }
  },
  "cells": [
    {
      "cell_type": "markdown",
      "metadata": {
        "id": "view-in-github",
        "colab_type": "text"
      },
      "source": [
        "<a href=\"https://colab.research.google.com/github/Sompote/RIC_transformer/blob/main/prediction.ipynb\" target=\"_parent\"><img src=\"https://colab.research.google.com/assets/colab-badge.svg\" alt=\"Open In Colab\"/></a>"
      ]
    },
    {
      "cell_type": "code",
      "source": [
        "!pip install -q --upgrade keras-nlp"
      ],
      "metadata": {
        "id": "jWn1tJBuxNG6"
      },
      "execution_count": 49,
      "outputs": []
    },
    {
      "cell_type": "code",
      "execution_count": 238,
      "metadata": {
        "id": "6vKmA5Wkwzo-"
      },
      "outputs": [],
      "source": [
        "#Transformer prediciton to predict RIC combind model by Dr. Sompote Youwai 2023\n",
        "import numpy as np\n",
        "import pandas as pd\n",
        "\n",
        "# Import libraries\n",
        "import numpy as np\n",
        "from keras.models import Sequential\n",
        "from keras.layers import Dense\n",
        "from sklearn.model_selection import train_test_split\n",
        "from sklearn.preprocessing import StandardScaler\n",
        "from sklearn.preprocessing import MinMaxScaler\n",
        "import matplotlib.pyplot as plt\n",
        "import pandas as pd\n",
        "\n",
        "#import tensorflow as tf\n",
        "from keras.models import Model\n",
        "from keras.layers import Input, Dense, Conv1D, Flatten, concatenate,Reshape, Dropout,Bidirectional,LayerNormalization\n",
        "from keras.layers import MaxPooling1D\n",
        "from keras.layers import LSTM, Dense\n",
        "from keras.metrics import MeanAbsolutePercentageError\n",
        "from keras import *\n",
        "from keras.optimizers import Adam\n",
        "import keras_nlp\n",
        "\n",
        "df = pd.read_excel('/content/drive/MyDrive/RIC/data_17aug.xlsx')\n",
        "data=np.array(df)\n",
        "X=data[:,1:29]\n",
        "Y=data[:,34:62]\n",
        "x_featured=data[:,29:32]\n"
      ]
    },
    {
      "cell_type": "code",
      "source": [
        "transformer = models.load_model('/content/drive/MyDrive/RIC/train_model/model1/transformer_medium_final.h5')"
      ],
      "metadata": {
        "id": "Z-0iO6huxetY"
      },
      "execution_count": 239,
      "outputs": []
    },
    {
      "cell_type": "code",
      "source": [
        "transformer.summary()"
      ],
      "metadata": {
        "colab": {
          "base_uri": "https://localhost:8080/"
        },
        "id": "jQzz_e0ixzsC",
        "outputId": "442454f5-1049-49d3-f9be-9eb3eca0e8b5"
      },
      "execution_count": 212,
      "outputs": [
        {
          "output_type": "stream",
          "name": "stdout",
          "text": [
            "Model: \"Transformer\"\n",
            "__________________________________________________________________________________________________\n",
            " Layer (type)                Output Shape                 Param #   Connected to                  \n",
            "==================================================================================================\n",
            " LSTM_input (InputLayer)     [(None, 28, 4)]              0         []                            \n",
            "                                                                                                  \n",
            " CNN_input (InputLayer)      [(None, 28, 4)]              0         []                            \n",
            "                                                                                                  \n",
            " layer_normalization_10 (La  (None, 28, 4)                8         ['LSTM_input[0][0]']          \n",
            " yerNormalization)                                                                                \n",
            "                                                                                                  \n",
            " position_embedding_2 (Posi  (None, 28, 4)                112       ['CNN_input[0][0]']           \n",
            " tionEmbedding)                                                                                   \n",
            "                                                                                                  \n",
            " multi_head_attention_5 (Mu  (None, 28, 4)                4564      ['layer_normalization_10[0][0]\n",
            " ltiHeadAttention)                                                  ',                            \n",
            "                                                                     'layer_normalization_10[0][0]\n",
            "                                                                    ']                            \n",
            "                                                                                                  \n",
            " layer_normalization_8 (Lay  (None, 28, 4)                8         ['position_embedding_2[0][0]']\n",
            " erNormalization)                                                                                 \n",
            "                                                                                                  \n",
            " dropout_12 (Dropout)        (None, 28, 4)                0         ['multi_head_attention_5[0][0]\n",
            "                                                                    ']                            \n",
            "                                                                                                  \n",
            " multi_head_attention_4 (Mu  (None, 28, 4)                4564      ['layer_normalization_8[0][0]'\n",
            " ltiHeadAttention)                                                  , 'layer_normalization_8[0][0]\n",
            "                                                                    ']                            \n",
            "                                                                                                  \n",
            " tf.__operators__.add_10 (T  (None, 28, 4)                0         ['dropout_12[0][0]',          \n",
            " FOpLambda)                                                          'LSTM_input[0][0]']          \n",
            "                                                                                                  \n",
            " dropout_10 (Dropout)        (None, 28, 4)                0         ['multi_head_attention_4[0][0]\n",
            "                                                                    ']                            \n",
            "                                                                                                  \n",
            " layer_normalization_11 (La  (None, 28, 4)                8         ['tf.__operators__.add_10[0][0\n",
            " yerNormalization)                                                  ]']                           \n",
            "                                                                                                  \n",
            " tf.__operators__.add_8 (TF  (None, 28, 4)                0         ['dropout_10[0][0]',          \n",
            " OpLambda)                                                           'position_embedding_2[0][0]']\n",
            "                                                                                                  \n",
            " conv1d_10 (Conv1D)          (None, 28, 2)                10        ['layer_normalization_11[0][0]\n",
            "                                                                    ']                            \n",
            "                                                                                                  \n",
            " layer_normalization_9 (Lay  (None, 28, 4)                8         ['tf.__operators__.add_8[0][0]\n",
            " erNormalization)                                                   ']                            \n",
            "                                                                                                  \n",
            " dropout_13 (Dropout)        (None, 28, 2)                0         ['conv1d_10[0][0]']           \n",
            "                                                                                                  \n",
            " conv1d_8 (Conv1D)           (None, 28, 2)                10        ['layer_normalization_9[0][0]'\n",
            "                                                                    ]                             \n",
            "                                                                                                  \n",
            " conv1d_11 (Conv1D)          (None, 28, 4)                12        ['dropout_13[0][0]']          \n",
            "                                                                                                  \n",
            " dropout_11 (Dropout)        (None, 28, 2)                0         ['conv1d_8[0][0]']            \n",
            "                                                                                                  \n",
            " tf.__operators__.add_11 (T  (None, 28, 4)                0         ['conv1d_11[0][0]',           \n",
            " FOpLambda)                                                          'tf.__operators__.add_10[0][0\n",
            "                                                                    ]']                           \n",
            "                                                                                                  \n",
            " conv1d_9 (Conv1D)           (None, 28, 4)                12        ['dropout_11[0][0]']          \n",
            "                                                                                                  \n",
            " lstm_4 (LSTM)               (None, 28, 100)              42000     ['tf.__operators__.add_11[0][0\n",
            "                                                                    ]']                           \n",
            "                                                                                                  \n",
            " tf.__operators__.add_9 (TF  (None, 28, 4)                0         ['conv1d_9[0][0]',            \n",
            " OpLambda)                                                           'tf.__operators__.add_8[0][0]\n",
            "                                                                    ']                            \n",
            "                                                                                                  \n",
            " flatten_5 (Flatten)         (None, 2800)                 0         ['lstm_4[0][0]']              \n",
            "                                                                                                  \n",
            " flatten_4 (Flatten)         (None, 112)                  0         ['tf.__operators__.add_9[0][0]\n",
            "                                                                    ']                            \n",
            "                                                                                                  \n",
            " dense_26 (Dense)            (None, 50)                   140050    ['flatten_5[0][0]']           \n",
            "                                                                                                  \n",
            " dense_24 (Dense)            (None, 50)                   5650      ['flatten_4[0][0]']           \n",
            "                                                                                                  \n",
            " concatenate_2 (Concatenate  (None, 100)                  0         ['dense_26[0][0]',            \n",
            " )                                                                   'dense_24[0][0]']            \n",
            "                                                                                                  \n",
            " dense_27 (Dense)            (None, 200)                  20200     ['concatenate_2[0][0]']       \n",
            "                                                                                                  \n",
            " dense_28 (Dense)            (None, 16)                   3216      ['dense_27[0][0]']            \n",
            "                                                                                                  \n",
            " feature (InputLayer)        [(None, 3)]                  0         []                            \n",
            "                                                                                                  \n",
            " lag_input (InputLayer)      [(None, None, 1)]            0         []                            \n",
            "                                                                                                  \n",
            " decoding_model (Functional  (None, 1)                    5703      ['dense_28[0][0]',            \n",
            " )                                                                   'feature[0][0]',             \n",
            "                                                                     'lag_input[0][0]']           \n",
            "                                                                                                  \n",
            "==================================================================================================\n",
            "Total params: 226135 (883.34 KB)\n",
            "Trainable params: 226135 (883.34 KB)\n",
            "Non-trainable params: 0 (0.00 Byte)\n",
            "__________________________________________________________________________________________________\n"
          ]
        }
      ]
    },
    {
      "cell_type": "code",
      "source": [
        "import pickle #download weight scaler\n",
        "scaler_x = pickle.load(open('/content/drive/MyDrive/RIC/train_model/model_final/scaler_x-2.pkl', 'rb'))\n",
        "scaler_y = pickle.load(open('/content/drive/MyDrive/RIC/train_model/model_final/scaler_y-3.pkl', 'rb'))\n",
        "scaler_f = pickle.load(open('/content/drive/MyDrive/RIC/train_model/model_final/scaler_f-2.pkl', 'rb'))"
      ],
      "metadata": {
        "id": "cPKol-al28Mc"
      },
      "execution_count": 240,
      "outputs": []
    },
    {
      "cell_type": "code",
      "source": [
        "#prepare data\n",
        "#feature=np.array([50,18,0.5])\n",
        "#feature=np.reshape(feature,(1,-1))\n",
        "sample=30\n",
        "Xd=X[sample-1:sample]\n",
        "feature=x_featured[sample-1:sample]\n",
        "\n",
        "x_train = scaler_x.transform(Xd)\n",
        "x_feature=scaler_f.transform(feature)\n",
        "y_ini=np.zeros((1,28))\n",
        "y_ini[0,0]=0\n",
        "#y_ini=scaler_y.transform(y_ini)\n",
        "\n",
        "def CNN_tensor(X,X_feature):\n",
        "  X_train_CNN=np.zeros((X.shape[0],X.shape[1],X_feature.shape[1]+1))\n",
        "  X_train_CNN[:,:,0]=x_train\n",
        "  for i in range(0,(X.shape[0])):\n",
        "    X_train_CNN[i,:,1]=x_feature[i,0]\n",
        "    X_train_CNN[i,:,2]=x_feature[i,1]\n",
        "    X_train_CNN[i,:,3]=x_feature[i,2]\n",
        "  return X_train_CNN\n",
        "X_cnn=CNN_tensor(x_train,x_feature)\n"
      ],
      "metadata": {
        "id": "ydCI7OHry14I"
      },
      "execution_count": 244,
      "outputs": []
    },
    {
      "cell_type": "code",
      "source": [
        "for step in range(0,27):\n",
        "  y=transformer.predict([x_feature,X_cnn, X_cnn,y_ini])\n",
        "  y_ini[0,step+1]=y\n",
        "\n",
        "y_pred=scaler_y.inverse_transform(y_ini)\n"
      ],
      "metadata": {
        "colab": {
          "base_uri": "https://localhost:8080/"
        },
        "id": "pEoDqSC54tPj",
        "outputId": "49e2581e-f293-4d1c-e694-c3fa449006ee"
      },
      "execution_count": 245,
      "outputs": [
        {
          "output_type": "stream",
          "name": "stdout",
          "text": [
            "1/1 [==============================] - 0s 53ms/step\n",
            "1/1 [==============================] - 0s 57ms/step\n",
            "1/1 [==============================] - 0s 47ms/step\n",
            "1/1 [==============================] - 0s 54ms/step\n",
            "1/1 [==============================] - 0s 46ms/step\n",
            "1/1 [==============================] - 0s 49ms/step\n",
            "1/1 [==============================] - 0s 65ms/step\n",
            "1/1 [==============================] - 0s 51ms/step\n",
            "1/1 [==============================] - 0s 54ms/step\n",
            "1/1 [==============================] - 0s 49ms/step\n",
            "1/1 [==============================] - 0s 52ms/step\n",
            "1/1 [==============================] - 0s 51ms/step\n",
            "1/1 [==============================] - 0s 55ms/step\n",
            "1/1 [==============================] - 0s 47ms/step\n",
            "1/1 [==============================] - 0s 51ms/step\n",
            "1/1 [==============================] - 0s 47ms/step\n",
            "1/1 [==============================] - 0s 47ms/step\n",
            "1/1 [==============================] - 0s 55ms/step\n",
            "1/1 [==============================] - 0s 47ms/step\n",
            "1/1 [==============================] - 0s 54ms/step\n",
            "1/1 [==============================] - 0s 55ms/step\n",
            "1/1 [==============================] - 0s 55ms/step\n",
            "1/1 [==============================] - 0s 46ms/step\n",
            "1/1 [==============================] - 0s 49ms/step\n",
            "1/1 [==============================] - 0s 47ms/step\n",
            "1/1 [==============================] - 0s 51ms/step\n",
            "1/1 [==============================] - 0s 59ms/step\n"
          ]
        }
      ]
    },
    {
      "cell_type": "code",
      "source": [
        "import matplotlib.pyplot as plt\n",
        "\n",
        "# Define the x-axis and corresponding y-axis values as lists\n",
        "\n",
        "ydist=[0.25,0.5,0.75,1,1.25,1.5,1.75,2,2.25,2.5,2.75,3,3.25,3.5,3.75,4,4.25,4.5,4.75,5,5.25,5.5,5.75,6,6.25,6.5,6.75,7]\n",
        "\n",
        "\n",
        "# Plot them on canvas using plt.plot() function\n",
        "plt.plot(X[sample-1], ydist,color='black',label='initial')\n",
        "plt.plot(Y[sample-1], ydist,color='red',label='actual')\n",
        "plt.plot(y_pred[0], ydist,color='blue',label='predict')\n",
        "plt.legend()\n",
        "\n",
        "\n",
        "# Give a name to x-axis and y-axis using plt.xlabel() and plt.ylabel() functions\n",
        "plt.xlabel(\"Qc\")\n",
        "plt.ylabel(\"depth\")\n",
        "\n",
        "# Give a title to your plot using plt.title() function\n",
        "plt.title(\"Qc VS depth\")\n",
        "# Get the current axes instance\n",
        "ax = plt.gca()\n",
        "\n",
        "# Invert the y-axis\n",
        "ax.invert_yaxis()\n",
        "\n",
        "# Finally, to view your plot, we use plt.show() function\n",
        "plt.show()"
      ],
      "metadata": {
        "colab": {
          "base_uri": "https://localhost:8080/",
          "height": 472
        },
        "id": "Hwkazq3y-MF1",
        "outputId": "e66da141-cbf7-4580-8147-a2fdec79da8d"
      },
      "execution_count": 246,
      "outputs": [
        {
          "output_type": "display_data",
          "data": {
            "text/plain": [
              "<Figure size 640x480 with 1 Axes>"
            ],
            "image/png": "[encoded data removed]"
          },
          "metadata": {}
        }
      ]
    },
    {
      "cell_type": "code",
      "source": [
        "np.savetxt('array5.csv', y_pred, delimiter=',')"
      ],
      "metadata": {
        "id": "C-n1YP-R-nRK"
      },
      "execution_count": 232,
      "outputs": []
    },
    {
      "cell_type": "code",
      "source": [],
      "metadata": {
        "id": "kCivJaG6ysa8"
      },
      "execution_count": null,
      "outputs": []
    }
  ]
}